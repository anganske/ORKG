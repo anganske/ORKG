{
 "cells": [
  {
   "cell_type": "code",
   "execution_count": null,
   "metadata": {},
   "outputs": [],
   "source": [
    "# %load ORKG_GMSL_Rise_PLots.py\n",
    "\"\"\"\n",
    "Created on Fri Aug  7 15:10:44 2020\n",
    "ORKG PLotprogramm: liest Daten aus ORKG Comparison und macht Plot\n",
    "@author: GanskeA\n",
    "\"\"\"\n",
    "\n",
    "import pandas as pd\n",
    "import numpy as np\n",
    "from orkg import ORKG\n",
    "from bokeh.models import ColumnDataSource\n",
    "from matplotlib import pyplot as plt\n",
    "\n",
    "# import data from ORKG comparison for Global Mean Sea Level Rise (GMSL Rise): \n",
    "# RCP8.5, 2100 compared to 2000: R48392\n",
    "# RCP4.5, 2100 compared to 2000: R48401\n",
    "# RCP2.6, 2100 compared to 2000: R48402\n",
    "# RCP8.5, 2050 compared to 2000: R48403\n",
    "# RCP4.5, 2050 compared to 2000: R48404\n",
    "# RCP2.6, 2050 compared to 2000: R48405\n",
    "scenario='RCP8.5'\n",
    "time_end='2100'\n",
    "com_id='R48392'\n",
    "p_title='Projected GMSL '+time_end+ ' compared to 2000, '+scenario\n",
    "pf_name='GMSL_Rise_'+time_end+'_'+scenario+'.png'\n",
    "\n",
    "# read numbers from ORKG\n",
    "orkg = ORKG(host='https://orkg.org/orkg', simcomp_host='https://orkg.org/orkg/simcomp') \n",
    "df = orkg.contributions.compare_dataframe(comparison_id=com_id)\n",
    " # Median\n",
    "values = np.float32(df.loc['Has value', :])\n",
    "n_elements=len(values)\n",
    "# likely range between lower and upper value\n",
    "lower = np.array([np.float32(x) if x else np.nan for x in df.loc['has lower limit for likely range', :]])\n",
    "upper = np.array([np.float32(x) if x else np.nan for x in df.loc['has upper limit for likely range', :]])\n",
    "\n",
    "df = pd.DataFrame(data=dict(value=values, lower=lower, upper=upper))\n",
    "source = ColumnDataSource(df)\n",
    "# x-axis: \n",
    "x = np.arange(0, n_elements, 1.0)\n",
    "# Plot median\n",
    "plt.plot(x,values,'bo',label='median')\n",
    "# plot likely range\n",
    "plt.errorbar(x,values,yerr=[lower,upper],fmt='.',label='likely range')\n",
    "\n",
    "plt.xlabel(\"Paper No.\")\n",
    "plt.ylabel(\"Likely Range GMSL Rise [m]\")\n",
    "plt.title(p_title)\n",
    "\n",
    "plt.legend(bbox_to_anchor=(1.05, 1), loc='upper left', borderaxespad=0.)\n",
    "# save in file pf_name\n",
    "plt.savefig(pf_name)\n",
    "plt.show()\n"
   ]
  },
  {
   "cell_type": "code",
   "execution_count": 2,
   "metadata": {},
   "outputs": [
    {
     "data": {
      "text/plain": [
       "<Figure size 640x480 with 1 Axes>"
      ]
     },
     "metadata": {},
     "output_type": "display_data"
    }
   ],
   "source": [
    "run ORKG_GMSL_Rise_PLots.py\n"
   ]
  },
  {
   "cell_type": "code",
   "execution_count": null,
   "metadata": {},
   "outputs": [],
   "source": []
  }
 ],
 "metadata": {
  "kernelspec": {
   "display_name": "Python 3",
   "language": "python",
   "name": "python3"
  },
  "language_info": {
   "codemirror_mode": {
    "name": "ipython",
    "version": 3
   },
   "file_extension": ".py",
   "mimetype": "text/x-python",
   "name": "python",
   "nbconvert_exporter": "python",
   "pygments_lexer": "ipython3",
   "version": "3.7.4"
  }
 },
 "nbformat": 4,
 "nbformat_minor": 2
}
